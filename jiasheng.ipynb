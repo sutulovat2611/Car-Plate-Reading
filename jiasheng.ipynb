{
 "cells": [
  {
   "cell_type": "code",
   "execution_count": 23,
   "metadata": {},
   "outputs": [],
   "source": [
    "from os import listdir\n",
    "import cv2\n",
    "import numpy as np\n",
    "from skimage.util import random_noise\n",
    "from imutils import grab_contours\n",
    "import copy\n",
    "import matplotlib.pyplot as plt"
   ]
  },
  {
   "cell_type": "code",
   "execution_count": 54,
   "metadata": {},
   "outputs": [
    {
     "name": "stdout",
     "output_type": "stream",
     "text": [
      "[0.12 0.26]\n",
      "[0.57932425 0.61301418]\n",
      "[0.65747063 0.89593832]\n",
      "[0.74220688 0.78515061]\n",
      "[1.46994152e-01 1.10252119e-04]\n"
     ]
    },
    {
     "data": {
      "text/plain": [
       "array([1.46994152e-01, 1.10252119e-04])"
      ]
     },
     "execution_count": 54,
     "metadata": {},
     "output_type": "execute_result"
    }
   ],
   "source": [
    "import numpy as np\n",
    "import math\n",
    "\n",
    "OUTPUT_NEURONS = 3\n",
    "INPUT_NEURONS = 4\n",
    "HIDDEN_NEURONS = 4\n",
    "\n",
    "def Weight_Initialization():\n",
    "    # Initializing of the Weights. Random float number between -0.5 to 0.5 for weights.\n",
    "    np.random.seed(1)\n",
    "    inputs= np.random.uniform(-0.5, 0.5, size=(5, INPUT_NEURONS))\n",
    "    wji= np.random.uniform(-0.5, 0.5, size=(HIDDEN_NEURONS, INPUT_NEURONS))\n",
    "    wkj = np.random.uniform(-0.5, 0.5, size=(OUTPUT_NEURONS, HIDDEN_NEURONS))\n",
    "    bias_j = np.random.uniform(0, 1, size=(HIDDEN_NEURONS,1 ))\n",
    "    bias_k = np.random.uniform(0, 1, size=(OUTPUT_NEURONS, 1))\n",
    "    print(inputs)\n",
    "    print(bias_j)\n",
    "    return inputs, wji,bias_j\n",
    "# def Read_Files():\n",
    "#     # Reading of Segmented Training Files, and Target Files.\n",
    "\n",
    "\n",
    "def Forward_Input_Hidden(inputs,weights, biases):\n",
    "    # Forward Propagation from Input -> Hidden Layer.\n",
    "    # Obtain the results at each neuron in the hidden layer.\n",
    "    # Calculate 𝑁𝑒𝑡𝑗and 𝑂𝑢𝑡𝑗\n",
    "\n",
    "    Netj = np.dot(inputs,weights.T) \n",
    "    print(Netj)\n",
    "    Outj = 1/(1 + math.e**-(Netj + np.transpose(biases)))\n",
    "    print(Outj)\n",
    "    return Outj\n",
    "\n",
    "def Error_Correction(outs, targets):\n",
    "    result = ((outs - targets)**2)/2\n",
    "    print(result)\n",
    "    return result\n",
    "\n",
    "# inputs, weights, biases = Weight_Initialization()\n",
    "inputs= np.array([0.2,0.5])\n",
    "weights= np.array([[0.1,0.2],[0.3,0.4]])\n",
    "weights2= np.array([[0.5,0.6],[0.7,0.8]])\n",
    "biases = np.array([0.2,0.2])\n",
    "biases2 = np.array([0.4,0.4])\n",
    "target = np.array([0.2,0.8])\n",
    "\n",
    "out = Forward_Input_Hidden(inputs, weights, biases)\n",
    "out = Forward_Input_Hidden(out, weights2, biases2)\n",
    "Error_Correction(out, target)"
   ]
  }
 ],
 "metadata": {
  "kernelspec": {
   "display_name": "Python 3",
   "language": "python",
   "name": "python3"
  },
  "language_info": {
   "codemirror_mode": {
    "name": "ipython",
    "version": 3
   },
   "file_extension": ".py",
   "mimetype": "text/x-python",
   "name": "python",
   "nbconvert_exporter": "python",
   "pygments_lexer": "ipython3",
   "version": "3.10.11"
  },
  "orig_nbformat": 4
 },
 "nbformat": 4,
 "nbformat_minor": 2
}
