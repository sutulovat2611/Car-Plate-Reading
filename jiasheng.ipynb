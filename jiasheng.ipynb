{
 "cells": [
  {
   "cell_type": "code",
   "execution_count": 5,
   "metadata": {},
   "outputs": [],
   "source": [
    "from os import listdir\n",
    "import cv2\n",
    "import numpy as np\n",
    "from skimage.util import random_noise\n",
    "from imutils import grab_contours\n",
    "import copy\n",
    "import matplotlib.pyplot as plt"
   ]
  },
  {
   "cell_type": "code",
   "execution_count": 6,
   "metadata": {},
   "outputs": [],
   "source": [
    "# Load image\n",
    "image = cv2.imread(\"U_0.PNG\")"
   ]
  },
  {
   "cell_type": "code",
   "execution_count": 7,
   "metadata": {},
   "outputs": [],
   "source": [
    "resized = cv2.resize(image, (28,28))\n",
    "# convert picture to gray scale\n",
    "img_gray = cv2.cvtColor(resized, cv2.COLOR_BGR2GRAY)"
   ]
  },
  {
   "cell_type": "code",
   "execution_count": 8,
   "metadata": {},
   "outputs": [],
   "source": [
    "_,img = cv2.threshold(img_gray,127,255,cv2.THRESH_BINARY)"
   ]
  },
  {
   "cell_type": "code",
   "execution_count": 9,
   "metadata": {},
   "outputs": [],
   "source": [
    "x_flattend = img.reshape(1, 28*28)"
   ]
  },
  {
   "cell_type": "code",
   "execution_count": 10,
   "metadata": {},
   "outputs": [
    {
     "data": {
      "text/plain": [
       "array([[  0,   0,   0,   0,   0,   0,   0,   0,   0,   0,   0,   0,   0,\n",
       "          0,   0,   0,   0,   0,   0,   0,   0,   0,   0,   0,   0,   0,\n",
       "          0,   0,   0,   0,   0,   0,   0,   0,   0,   0,   0,   0,   0,\n",
       "          0,   0,   0,   0,   0,   0,   0,   0,   0,   0,   0,   0,   0,\n",
       "          0,   0,   0,   0,   0,   0,   0,   0,   0,   0,   0,   0,   0,\n",
       "          0,   0,   0,   0,   0,   0,   0,   0,   0,   0,   0,   0,   0,\n",
       "          0,   0,   0,   0,   0,   0,   0,   0,   0,   0,   0,   0,   0,\n",
       "          0,   0,   0,   0,   0,   0, 255, 255, 255, 255,   0,   0,   0,\n",
       "          0,   0,   0,   0,   0,   0,   0,   0,   0,   0,   0,   0,   0,\n",
       "        255, 255, 255, 255,   0,   0,   0,   0, 255, 255, 255, 255,   0,\n",
       "          0,   0,   0,   0,   0,   0,   0,   0,   0,   0,   0,   0,   0,\n",
       "          0,   0, 255, 255, 255, 255,   0,   0,   0,   0, 255, 255, 255,\n",
       "        255,   0,   0,   0,   0,   0,   0,   0,   0,   0,   0,   0,   0,\n",
       "          0,   0,   0,   0, 255, 255, 255, 255,   0,   0,   0,   0,   0,\n",
       "        255, 255, 255,   0,   0,   0,   0,   0,   0,   0,   0,   0,   0,\n",
       "          0,   0,   0,   0,   0,   0, 255, 255, 255, 255,   0,   0,   0,\n",
       "          0,   0, 255, 255, 255,   0,   0,   0,   0,   0,   0,   0,   0,\n",
       "          0,   0,   0,   0,   0,   0,   0,   0, 255, 255, 255, 255,   0,\n",
       "          0,   0,   0,   0, 255, 255, 255,   0,   0,   0,   0,   0,   0,\n",
       "          0,   0,   0,   0,   0,   0,   0,   0,   0,   0,   0, 255, 255,\n",
       "        255,   0,   0,   0,   0,   0, 255, 255, 255,   0,   0,   0,   0,\n",
       "          0,   0,   0,   0,   0,   0,   0,   0,   0,   0,   0,   0,   0,\n",
       "        255, 255, 255,   0,   0,   0,   0,   0, 255, 255, 255, 255,   0,\n",
       "          0,   0,   0,   0,   0,   0,   0,   0,   0,   0,   0,   0,   0,\n",
       "          0,   0, 255, 255, 255,   0,   0,   0,   0,   0, 255, 255, 255,\n",
       "        255,   0,   0,   0,   0,   0,   0,   0,   0,   0,   0,   0,   0,\n",
       "          0,   0,   0,   0, 255, 255, 255,   0,   0,   0,   0,   0, 255,\n",
       "        255, 255, 255,   0,   0,   0,   0,   0,   0,   0,   0,   0,   0,\n",
       "          0,   0,   0,   0,   0,   0, 255, 255, 255,   0,   0,   0,   0,\n",
       "          0, 255, 255, 255, 255,   0,   0,   0,   0,   0,   0,   0,   0,\n",
       "          0,   0,   0,   0,   0,   0,   0,   0, 255, 255, 255,   0,   0,\n",
       "          0,   0,   0, 255, 255, 255, 255,   0,   0,   0,   0,   0,   0,\n",
       "          0,   0,   0,   0,   0,   0,   0,   0,   0,   0, 255, 255, 255,\n",
       "          0,   0,   0,   0,   0, 255, 255, 255, 255,   0,   0,   0,   0,\n",
       "          0,   0,   0,   0,   0,   0,   0,   0,   0,   0,   0,   0, 255,\n",
       "        255, 255,   0,   0,   0,   0,   0,   0, 255, 255, 255,   0,   0,\n",
       "          0,   0,   0,   0,   0,   0,   0,   0,   0,   0,   0,   0,   0,\n",
       "          0, 255, 255, 255, 255,   0,   0,   0,   0,   0, 255, 255, 255,\n",
       "          0,   0,   0,   0,   0,   0,   0,   0,   0,   0,   0,   0,   0,\n",
       "          0,   0,   0, 255, 255, 255, 255,   0,   0,   0,   0,   0, 255,\n",
       "        255, 255,   0,   0,   0,   0,   0,   0,   0,   0,   0,   0,   0,\n",
       "          0,   0,   0,   0,   0, 255, 255, 255, 255,   0,   0,   0,   0,\n",
       "        255, 255, 255, 255,   0,   0,   0,   0,   0,   0,   0,   0,   0,\n",
       "          0,   0,   0,   0,   0,   0,   0,   0, 255, 255, 255, 255,   0,\n",
       "          0,   0, 255, 255, 255, 255,   0,   0,   0,   0,   0,   0,   0,\n",
       "          0,   0,   0,   0,   0,   0,   0,   0,   0,   0, 255, 255, 255,\n",
       "        255, 255, 255, 255, 255, 255, 255,   0,   0,   0,   0,   0,   0,\n",
       "          0,   0,   0,   0,   0,   0,   0,   0,   0,   0,   0,   0,   0,\n",
       "        255, 255, 255, 255, 255, 255, 255, 255,   0,   0,   0,   0,   0,\n",
       "          0,   0,   0,   0,   0,   0,   0,   0,   0,   0,   0,   0,   0,\n",
       "          0,   0,   0,   0, 255, 255, 255, 255, 255,   0,   0,   0,   0,\n",
       "          0,   0,   0,   0,   0,   0,   0,   0,   0,   0,   0,   0,   0,\n",
       "          0,   0,   0,   0,   0,   0,   0,   0, 255,   0,   0,   0,   0,\n",
       "          0,   0,   0,   0,   0,   0,   0,   0,   0,   0,   0,   0,   0,\n",
       "          0,   0,   0,   0,   0,   0,   0,   0,   0,   0,   0,   0,   0,\n",
       "          0,   0,   0,   0,   0,   0,   0,   0,   0,   0,   0,   0,   0,\n",
       "          0,   0,   0,   0,   0,   0,   0,   0,   0,   0,   0,   0,   0,\n",
       "          0,   0,   0,   0,   0,   0,   0,   0,   0,   0,   0,   0,   0,\n",
       "          0,   0,   0,   0,   0,   0,   0,   0,   0,   0,   0,   0,   0,\n",
       "          0,   0,   0,   0,   0,   0,   0,   0,   0,   0,   0,   0,   0,\n",
       "          0,   0,   0,   0]], dtype=uint8)"
      ]
     },
     "execution_count": 10,
     "metadata": {},
     "output_type": "execute_result"
    },
    {
     "data": {
      "image/png": "[encoded data removed]",
      "text/plain": [
       "<Figure size 480x480 with 1 Axes>"
      ]
     },
     "metadata": {},
     "output_type": "display_data"
    }
   ],
   "source": [
    "plt.matshow(img)\n",
    "x_flattend"
   ]
  },
  {
   "cell_type": "code",
   "execution_count": 18,
   "metadata": {},
   "outputs": [
    {
     "name": "stdout",
     "output_type": "stream",
     "text": [
      "[[-0.21843358 -0.33052273  0.13527468 -0.08568614]\n",
      " [-0.01437266 -0.36534839  0.43616964  0.07370451]\n",
      " [ 0.07271298 -0.00150513 -0.02695159 -0.13023327]]\n"
     ]
    }
   ],
   "source": [
    "import numpy as np\n",
    "\n",
    "OUTPUT_NEURONS = 3\n",
    "INPUT_NEURONS = 4\n",
    "HIDDEN_NEURONS = 4\n",
    "\n",
    "def Weight_Initialization():\n",
    "    # Initializing of the Weights. Random float number between -0.5 to 0.5 for weights.\n",
    "    np.random.seed(1)\n",
    "    inputs= np.random.uniform(-0.5, 0.5, size=(3, 4))\n",
    "    wji= np.random.uniform(-0.5, 0.5, size=(HIDDEN_NEURONS, INPUT_NEURONS))\n",
    "    wkj = np.random.uniform(-0.5, 0.5, size=(OUTPUT_NEURONS, HIDDEN_NEURONS))\n",
    "    bias_j = np.random.uniform(0, 1, size=(HIDDEN_NEURONS, 1))\n",
    "    bias_k = np.random.uniform(0, 1, size=(OUTPUT_NEURONS, 1))\n",
    "    return inputs, wji,bias_j\n",
    "# def Read_Files():\n",
    "#     # Reading of Segmented Training Files, and Target Files.\n",
    "\n",
    "\n",
    "def Forward_Input_Hidden( inputs,weights, bias):\n",
    "    # Forward Propagation from Input -> Hidden Layer.\n",
    "    # Obtain the results at each neuron in the hidden layer.\n",
    "    # Calculate 𝑁𝑒𝑡𝑗and 𝑂𝑢𝑡𝑗\n",
    "    Netj = np.dot(inputs,weights) \n",
    "    print(Netj)\n",
    "\n",
    "inputs, weights, biases = Weight_Initialization()\n",
    "Forward_Input_Hidden(inputs, weights, biases)"
   ]
  }
 ],
 "metadata": {
  "kernelspec": {
   "display_name": "Python 3",
   "language": "python",
   "name": "python3"
  },
  "language_info": {
   "codemirror_mode": {
    "name": "ipython",
    "version": 3
   },
   "file_extension": ".py",
   "mimetype": "text/x-python",
   "name": "python",
   "nbconvert_exporter": "python",
   "pygments_lexer": "ipython3",
   "version": "3.10.11"
  },
  "orig_nbformat": 4
 },
 "nbformat": 4,
 "nbformat_minor": 2
}
